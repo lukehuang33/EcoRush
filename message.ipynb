```python
import pandas as pd
from sklearn.model_selection import train_test_split
from sklearn.preprocessing import StandardScaler
from tensorflow.keras.models import Sequential
from tensorflow.keras.layers import Dense
import numpy as np
import matplotlib.pyplot as plt

# Load the CSV file
file_path = './Litterati_OpenData_2022_2570524819026859778.csv'  # Adjust the path if needed
data = pd.read_csv(file_path)

# Convert the timestamp column to datetime format
data['timestamp'] = pd.to_datetime(data['timestamp'], format='%m/%d/%Y %I:%M:%S %p')

# Sort the data by timestamp to ensure chronological order
data = data.sort_values(by='timestamp')

# Shift the latitude and longitude by 1 month to use as labels for predicting future locations
data['future_lat'] = data['lat'].shift(-1)
data['future_long'] = data['long'].shift(-1)

# Remove any rows with missing future location data
data = data.dropna(subset=['future_lat', 'future_long'])

# Prepare features (current longitude and latitude only) and labels (future longitude and latitude)
features = data[['long', 'lat']].copy()  # Remove 'year_month' from the features
labels = data[['future_long', 'future_lat']].copy()

# Split the dataset into training and testing sets
X_train, X_test, y_train, y_test = train_test_split(features, labels, test_size=0.2, random_state=42)

# Standardize the feature set (scaling longitude and latitude)
scaler = StandardScaler()
X_train_scaled = scaler.fit_transform(X_train)
X_test_scaled = scaler.transform(X_test)

# Build the neural network model
model = Sequential()
model.add(Dense(64, input_dim=X_train_scaled.shape[1], activation='relu'))
model.add(Dense(32, activation='relu'))
model.add(Dense(2))  # Output layer for predicting latitude and longitude

# Compile the model
model.compile(optimizer='adam', loss='mean_squared_error')

# Train the model
history = model.fit(X_train_scaled, y_train, epochs=50, batch_size=32, validation_data=(X_test_scaled, y_test))

# Evaluate the model on the test set
loss = model.evaluate(X_test_scaled, y_test)
print(f"Test Loss: {loss}")

# Predict future litter locations (1 month into the future)
y_pred = model.predict(X_test_scaled)

# Convert predictions back to a DataFrame for easier handling
y_pred_df = pd.DataFrame(y_pred, columns=['pred_long', 'pred_lat'])

# Outlier clipping: calculate the mean and standard deviation of the predicted values
mean_long = np.mean(y_pred_df['pred_long'])
std_long = np.std(y_pred_df['pred_long'])
mean_lat = np.mean(y_pred_df['pred_lat'])
std_lat = np.std(y_pred_df['pred_lat'])

# Define clipping thresholds (e.g., within 3 standard deviations)
lower_bound_long = mean_long - 3 * std_long
upper_bound_long = mean_long + 3 * std_long
lower_bound_lat = mean_lat - 3 * std_lat
upper_bound_lat = mean_lat + 3 * std_lat

# Clip the outliers
y_pred_df['pred_long'] = np.clip(y_pred_df['pred_long'], lower_bound_long, upper_bound_long)
y_pred_df['pred_lat'] = np.clip(y_pred_df['pred_lat'], lower_bound_lat, upper_bound_lat)

# Plot the true vs predicted locations after clipping
plt.figure(figsize=(10, 6))

# Scatter plot for actual future locations
plt.scatter(y_test['future_long'].values, y_test['future_lat'].values, color='blue', label='True Locations', alpha=0.5)

# Scatter plot for predicted future locations after clipping
plt.scatter(y_pred_df['pred_long'], y_pred_df['pred_lat'], color='red', label='Predicted Locations (Clipped)', alpha=0.5)

# Add labels and title
plt.title('True vs Predicted Litter Locations (Testing Set, After Clipping)')
plt.xlabel('Longitude')
plt.ylabel('Latitude')
plt.legend()
plt.show()
```